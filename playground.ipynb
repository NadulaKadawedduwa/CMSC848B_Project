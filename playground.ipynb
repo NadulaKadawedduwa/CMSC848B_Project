{
 "cells": [
  {
   "cell_type": "code",
   "execution_count": 3,
   "metadata": {},
   "outputs": [],
   "source": [
    "import os\n",
    "import torch\n",
    "import numpy as np\n",
    "from matplotlib import pyplot as plt"
   ]
  },
  {
   "cell_type": "code",
   "execution_count": 12,
   "metadata": {},
   "outputs": [],
   "source": [
    "from torch.utils.data import Dataset\n",
    "import torchvision.transforms as T\n",
    "import PIL.Image as Image\n",
    "import numpy as np\n",
    "import torch\n",
    "\n",
    "class CustomDataset(Dataset):\n",
    "    def __init__(self, img_list_file='/mnt/data/ILSVRC/Data/train_img_paths.txt', transforms=None, std=None, crop_size=224, device='cpu') -> None:\n",
    "        super().__init__()\n",
    "        with open(img_list_file, 'r') as f:\n",
    "            self.img_paths = f.readlines()\n",
    "        self.crop_size = crop_size\n",
    "        self.transform = transforms or  T.Compose([\n",
    "                T.ToTensor(),\n",
    "                T.CenterCrop(size=224)\n",
    "            ])\n",
    "        self.std = std\n",
    "        self.device = device\n",
    "    \n",
    "    def __add_noise__(self, img):\n",
    "        std = self.std or np.random.uniform(0, 1)\n",
    "        img = np.array(img)\n",
    "\n",
    "        noise = np.random.normal(0, std, img.shape)\n",
    "        noisy_img = np.clip(img + noise, 0, 255)\n",
    "        return noisy_img\n",
    "    \n",
    "    def __get_img__(self, idx):\n",
    "        img_path = self.img_paths[idx].strip()\n",
    "        img = Image.open(img_path).convert(\"L\")\n",
    "        noisy_img = self.__add_noise__(img)\n",
    "\n",
    "        img = self.transform(img)\n",
    "        noisy_img = self.transform(noisy_img)\n",
    "\n",
    "        return img, noisy_img\n",
    "    \n",
    "    def __len__(self):\n",
    "        return len(self.img_paths)\n",
    "    \n",
    "    def __getitem__(self, idx):\n",
    "        img_1, noisy_1 = self.__get_img__(idx)\n",
    "\n",
    "        # get a random image\n",
    "        target_idx = np.random.randint(0, len(self.img_paths))\n",
    "        img_2, noisy_2 = self.__get_img__(target_idx)\n",
    "\n",
    "        noisy = torch.cat((noisy_1, noisy_2)).to(torch.float)\n",
    "        clean = torch.cat((img_1, img_2), dim=0).to(torch.float)\n",
    "        return noisy.to(device=self.device), clean.to(device=self.device)\n",
    "\n",
    "imagenet_path = '/mnt/data/ILSVRC/Data'\n",
    "train_path = os.path.join(imagenet_path, \"train\")\n",
    "image_list = os.path.join(imagenet_path, \"train_img_paths.txt\")\n",
    "dataset = CustomDataset(image_list, device='cuda')\n",
    "data = next(iter(dataset))\n"
   ]
  },
  {
   "cell_type": "code",
   "execution_count": null,
   "metadata": {},
   "outputs": [],
   "source": [
    "import torch\n",
    "from torch.optim import Adam\n",
    "from torch.nn import MSELoss\n",
    "from torch.utils.data import DataLoader\n",
    "from tqdm import tqdm\n",
    "\n",
    "# from dataset import CustomDataset\n",
    "from smaller_model import UNet\n",
    "\n",
    "device = 'cuda' if torch.cuda.is_available() else 'cpu'\n",
    "batch_size = 32\n",
    "dataset = CustomDataset(device=device)\n",
    "dataloader = DataLoader(dataset, batch_size=batch_size, shuffle=True)\n",
    "\n",
    "\n",
    "model = UNet().to(device=device)\n",
    "\n",
    "lr = 1e-3\n",
    "optim = Adam(model.parameters(), lr=lr)\n",
    "loss_fn = MSELoss()\n",
    "log_every = 10\n",
    "\n",
    "n_epochs = 1\n",
    "\n",
    "for epoch in range(n_epochs):\n",
    "    for noisy, clean in tqdm(dataloader):\n",
    "        optim.zero_grad()\n",
    "        pred = model(noisy.to(torch.float))\n",
    "\n",
    "        loss = loss_fn(pred, clean)\n",
    "        loss.backward()\n",
    "        optim.step()\n",
    "\n",
    "        if epoch > 0 and epoch % log_every == 0:\n",
    "            print(f'Loss: {loss.item()}')"
   ]
  },
  {
   "cell_type": "code",
   "execution_count": 1,
   "metadata": {},
   "outputs": [],
   "source": [
    "data_path = \"/fs/vulcan-datasets/imagenet/train\"\n",
    "\n",
    "import os\n",
    "import glob\n",
    "\n",
    "files_ = []\n",
    "for root, dir, files in os.walk(data_path):\n",
    "    for file in files:\n",
    "        if file.lower().endswith(\".jpeg\"):\n",
    "            files_.append(os.path.append(root, file))\n",
    "\n",
    "with open('./vulcan_files.txt', 'w') as f:\n",
    "    f.writelines(files_)"
   ]
  },
  {
   "cell_type": "code",
   "execution_count": 21,
   "metadata": {},
   "outputs": [],
   "source": [
    "with open('./vulcan_files.txt', 'r') as f:\n",
    "    img_paths = f.readlines()\n",
    "\n",
    "img_paths = [img_path.strip() for img_path in img_paths]\n",
    "corrected = []\n",
    "\n",
    "import re\n",
    "\n",
    "pattern = r\"/train/(n\\d+)_(\\.*)\"\n",
    "for name in img_paths:\n",
    "    new_path = re.sub(pattern, r\"/train/\\1/\\1_\\2\", name)\n",
    "    corrected.append(new_path)\n",
    "\n",
    "with open('./vulcan_files_2.txt', 'w') as f:\n",
    "    f.write(\"\\n\".join(corrected))"
   ]
  },
  {
   "cell_type": "code",
   "execution_count": 23,
   "metadata": {},
   "outputs": [
    {
     "ename": "KeyboardInterrupt",
     "evalue": "",
     "output_type": "error",
     "traceback": [
      "\u001b[0;31m---------------------------------------------------------------------------\u001b[0m",
      "\u001b[0;31mKeyboardInterrupt\u001b[0m                         Traceback (most recent call last)",
      "Cell \u001b[0;32mIn[23], line 3\u001b[0m\n\u001b[1;32m      1\u001b[0m \u001b[38;5;28;01mfor\u001b[39;00m img_path \u001b[38;5;129;01min\u001b[39;00m corrected:\n\u001b[1;32m      2\u001b[0m     img_path \u001b[38;5;241m=\u001b[39m img_path\u001b[38;5;241m.\u001b[39mstrip()\n\u001b[0;32m----> 3\u001b[0m     image \u001b[38;5;241m=\u001b[39m \u001b[43mImage\u001b[49m\u001b[38;5;241;43m.\u001b[39;49m\u001b[43mopen\u001b[49m\u001b[43m(\u001b[49m\u001b[43mimg_path\u001b[49m\u001b[43m)\u001b[49m\n\u001b[1;32m      4\u001b[0m     image\u001b[38;5;241m.\u001b[39mclose()\n",
      "File \u001b[0;32m/vulcanscratch/daniekpo/miniconda3/envs/task-planning/lib/python3.10/site-packages/PIL/Image.py:3218\u001b[0m, in \u001b[0;36mopen\u001b[0;34m(fp, mode, formats)\u001b[0m\n\u001b[1;32m   3215\u001b[0m     filename \u001b[38;5;241m=\u001b[39m fp\n\u001b[1;32m   3217\u001b[0m \u001b[38;5;28;01mif\u001b[39;00m filename:\n\u001b[0;32m-> 3218\u001b[0m     fp \u001b[38;5;241m=\u001b[39m \u001b[43mbuiltins\u001b[49m\u001b[38;5;241;43m.\u001b[39;49m\u001b[43mopen\u001b[49m\u001b[43m(\u001b[49m\u001b[43mfilename\u001b[49m\u001b[43m,\u001b[49m\u001b[43m \u001b[49m\u001b[38;5;124;43m\"\u001b[39;49m\u001b[38;5;124;43mrb\u001b[39;49m\u001b[38;5;124;43m\"\u001b[39;49m\u001b[43m)\u001b[49m\n\u001b[1;32m   3219\u001b[0m     exclusive_fp \u001b[38;5;241m=\u001b[39m \u001b[38;5;28;01mTrue\u001b[39;00m\n\u001b[1;32m   3221\u001b[0m \u001b[38;5;28;01mtry\u001b[39;00m:\n",
      "\u001b[0;31mKeyboardInterrupt\u001b[0m: "
     ]
    }
   ],
   "source": [
    "for img_path in corrected:\n",
    "    img_path = img_path.strip()\n",
    "    image = Image.open(img_path)\n",
    "    image.close()\n"
   ]
  },
  {
   "cell_type": "code",
   "execution_count": 11,
   "metadata": {},
   "outputs": [
    {
     "name": "stdout",
     "output_type": "stream",
     "text": [
      "/fs/vulcan-datasets/imagenet/train/n01440764/n01440764_10026.JPEG\n"
     ]
    }
   ],
   "source": [
    "original_string = \"/fs/vulcan-datasets/imagenet/train/n01440764_10026.JPEG\"\n",
    "\n",
    "# Define a regular expression pattern to capture the desired value\n",
    "pattern = r\"/train/(\\w+)_(\\.*)\"\n",
    "\n",
    "# Replace the pattern with the modified string\n",
    "modified_string = re.sub(pattern, r\"/train/\\1/\\1_\\2\", original_string)\n",
    "\n",
    "print(modified_string)\n"
   ]
  }
 ],
 "metadata": {
  "kernelspec": {
   "display_name": "group-project",
   "language": "python",
   "name": "python3"
  },
  "language_info": {
   "codemirror_mode": {
    "name": "ipython",
    "version": 3
   },
   "file_extension": ".py",
   "mimetype": "text/x-python",
   "name": "python",
   "nbconvert_exporter": "python",
   "pygments_lexer": "ipython3",
   "version": "3.10.13"
  }
 },
 "nbformat": 4,
 "nbformat_minor": 2
}
